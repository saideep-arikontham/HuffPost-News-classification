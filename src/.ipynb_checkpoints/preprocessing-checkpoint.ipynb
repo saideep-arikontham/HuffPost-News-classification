{
 "cells": [
  {
   "cell_type": "code",
   "execution_count": 1,
   "id": "61fe5957",
   "metadata": {},
   "outputs": [
    {
     "name": "stdout",
     "output_type": "stream",
     "text": [
      "The data has 209527 rows and 8 columns\n",
      "The data has the following features:\n",
      "['Unnamed: 0', 'headline', 'category', 'short_description', 'authors', 'date', 'headline_length', 'short_description_length']\n"
     ]
    }
   ],
   "source": [
    "import pandas as pd\n",
    "import nltk\n",
    "from nltk.corpus import stopwords\n",
    "import re\n",
    "import contractions\n",
    "import matplotlib.pyplot as plt\n",
    "\n",
    "\n",
    "df = pd.read_csv('data/News_Category_Dataset_v3.csv')\n",
    "print(f'The data has {df.shape[0]} rows and {df.shape[1]} columns')\n",
    "print(f'The data has the following features:\\n{df.columns.tolist()}')"
   ]
  },
  {
   "cell_type": "code",
   "execution_count": 2,
   "id": "44750a63",
   "metadata": {},
   "outputs": [
    {
     "name": "stdout",
     "output_type": "stream",
     "text": [
      "Number of classes in category: 42\n"
     ]
    }
   ],
   "source": [
    "#target - category\n",
    "\n",
    "print(f'Number of classes in category: {len(df['category'].unique())}')"
   ]
  },
  {
   "cell_type": "code",
   "execution_count": 3,
   "id": "7983a9d9",
   "metadata": {},
   "outputs": [
    {
     "data": {
      "text/plain": [
       "category\n",
       "POLITICS          35602\n",
       "WELLNESS          17945\n",
       "ENTERTAINMENT     17362\n",
       "TRAVEL             9900\n",
       "STYLE & BEAUTY     9814\n",
       "PARENTING          8791\n",
       "HEALTHY LIVING     6694\n",
       "QUEER VOICES       6347\n",
       "FOOD & DRINK       6340\n",
       "BUSINESS           5992\n",
       "COMEDY             5400\n",
       "SPORTS             5077\n",
       "BLACK VOICES       4583\n",
       "HOME & LIVING      4320\n",
       "PARENTS            3955\n",
       "THE WORLDPOST      3664\n",
       "WEDDINGS           3653\n",
       "WOMEN              3572\n",
       "CRIME              3562\n",
       "IMPACT             3484\n",
       "DIVORCE            3426\n",
       "WORLD NEWS         3299\n",
       "MEDIA              2944\n",
       "WEIRD NEWS         2777\n",
       "GREEN              2622\n",
       "WORLDPOST          2579\n",
       "RELIGION           2577\n",
       "STYLE              2254\n",
       "SCIENCE            2206\n",
       "TECH               2104\n",
       "TASTE              2096\n",
       "MONEY              1756\n",
       "ARTS               1509\n",
       "ENVIRONMENT        1444\n",
       "FIFTY              1401\n",
       "GOOD NEWS          1398\n",
       "U.S. NEWS          1377\n",
       "ARTS & CULTURE     1339\n",
       "COLLEGE            1144\n",
       "LATINO VOICES      1130\n",
       "CULTURE & ARTS     1074\n",
       "EDUCATION          1014\n",
       "Name: count, dtype: int64"
      ]
     },
     "execution_count": 3,
     "metadata": {},
     "output_type": "execute_result"
    }
   ],
   "source": [
    "df['category'].value_counts()"
   ]
  },
  {
   "cell_type": "markdown",
   "id": "67abd511",
   "metadata": {},
   "source": [
    "- Some categories can be inter-related and grouping them using the following mapping:"
   ]
  },
  {
   "cell_type": "code",
   "execution_count": 4,
   "id": "4acdb076",
   "metadata": {},
   "outputs": [],
   "source": [
    "mapping = {\n",
    "    \"POLITICS\" : [\"POLITICS\"],\n",
    "    \"ENTERTAINMENT\" : [\"ENTERTAINMENT\", \"MEDIA\", \"COMEDY\"],\n",
    "    \"VOICES\" : [\"QUEER VOICES\", \"BLACK VOICES\", \"LATINO VOICES\"],\n",
    "    \"FOOD & DRINK\" : [\"FOOD & DRINK\", \"TASTE\"],\n",
    "    \"BUSINESS\" : [\"BUSINESS\"],\n",
    "    \"SPORTS\" : [\"SPORTS\"],\n",
    "    \"HOME & LIVING\" : [\"HOME & LIVING\"],\n",
    "    \"NEWS\" : [\"THE WORLDPOST\", \"CRIME\", \"WORLD NEWS\", \"WEIRD NEWS\", \"WORLDPOST\", \"FIFTY\", \"GOOD NEWS\", \"U.S. NEWS\", ],\n",
    "    \"FAMILY\" : [\"WEDDINGS\", \"DIVORCE\", \"PARENTING\", \"PARENTS\"],\n",
    "    \"IMPACT\" : [\"IMPACT\"],\n",
    "    \"ENVIRONMENT\" : [\"GREEN\", \"ENVIRONMENT\"],\n",
    "    \"LIFE\" : [\"WOMEN\", \"RELIGION\", \"MONEY\", \"TRAVEL\"],\n",
    "    \"SCIENCE\" : [\"SCIENCE\", \"TECH\", ],\n",
    "    \"ARTS & CULTURE\" : [\"ARTS\", \"ARTS & CULTURE\", \"CULTURE & ARTS\"],\n",
    "    \"EDUCATION\" : [\"COLLEGE\", \"EDUCATION\"],\n",
    "    \"STYLE & BEAUTY\" : [\"STYLE & BEAUTY\", \"STYLE\"],\n",
    "    \"WELLNESS\" : [\"WELLNESS\", \"HEALTHY LIVING\"]\n",
    "}\n",
    "for i, j in mapping.items():\n",
    "    df.loc[df['category'].isin(j), 'category'] = i"
   ]
  },
  {
   "cell_type": "code",
   "execution_count": 5,
   "id": "3e69d75a",
   "metadata": {},
   "outputs": [
    {
     "name": "stdout",
     "output_type": "stream",
     "text": [
      "Number of classes in category after relabeling: 17\n"
     ]
    }
   ],
   "source": [
    "print(f'Number of classes in category after relabeling: {len(df['category'].unique())}')"
   ]
  },
  {
   "cell_type": "code",
   "execution_count": 6,
   "id": "746fa69b",
   "metadata": {},
   "outputs": [
    {
     "data": {
      "text/html": [
       "<div>\n",
       "<style scoped>\n",
       "    .dataframe tbody tr th:only-of-type {\n",
       "        vertical-align: middle;\n",
       "    }\n",
       "\n",
       "    .dataframe tbody tr th {\n",
       "        vertical-align: top;\n",
       "    }\n",
       "\n",
       "    .dataframe thead th {\n",
       "        text-align: right;\n",
       "    }\n",
       "</style>\n",
       "<table border=\"1\" class=\"dataframe\">\n",
       "  <thead>\n",
       "    <tr style=\"text-align: right;\">\n",
       "      <th></th>\n",
       "      <th>headline</th>\n",
       "      <th>category</th>\n",
       "      <th>short_description</th>\n",
       "      <th>headline_length</th>\n",
       "      <th>short_description_length</th>\n",
       "    </tr>\n",
       "  </thead>\n",
       "  <tbody>\n",
       "    <tr>\n",
       "      <th>0</th>\n",
       "      <td>Over 4 Million Americans Roll Up Sleeves For O...</td>\n",
       "      <td>NEWS</td>\n",
       "      <td>Health experts said it is too early to predict...</td>\n",
       "      <td>76</td>\n",
       "      <td>154</td>\n",
       "    </tr>\n",
       "    <tr>\n",
       "      <th>1</th>\n",
       "      <td>American Airlines Flyer Charged, Banned For Li...</td>\n",
       "      <td>NEWS</td>\n",
       "      <td>He was subdued by passengers and crew when he ...</td>\n",
       "      <td>89</td>\n",
       "      <td>159</td>\n",
       "    </tr>\n",
       "    <tr>\n",
       "      <th>2</th>\n",
       "      <td>23 Of The Funniest Tweets About Cats And Dogs ...</td>\n",
       "      <td>ENTERTAINMENT</td>\n",
       "      <td>\"Until you have a dog you don't understand wha...</td>\n",
       "      <td>69</td>\n",
       "      <td>64</td>\n",
       "    </tr>\n",
       "  </tbody>\n",
       "</table>\n",
       "</div>"
      ],
      "text/plain": [
       "                                            headline       category  \\\n",
       "0  Over 4 Million Americans Roll Up Sleeves For O...           NEWS   \n",
       "1  American Airlines Flyer Charged, Banned For Li...           NEWS   \n",
       "2  23 Of The Funniest Tweets About Cats And Dogs ...  ENTERTAINMENT   \n",
       "\n",
       "                                   short_description  headline_length  \\\n",
       "0  Health experts said it is too early to predict...               76   \n",
       "1  He was subdued by passengers and crew when he ...               89   \n",
       "2  \"Until you have a dog you don't understand wha...               69   \n",
       "\n",
       "   short_description_length  \n",
       "0                       154  \n",
       "1                       159  \n",
       "2                        64  "
      ]
     },
     "metadata": {},
     "output_type": "display_data"
    },
    {
     "name": "stdout",
     "output_type": "stream",
     "text": [
      "The data has the following features after dropping non-ml attributes:\n",
      "['headline', 'category', 'short_description', 'headline_length', 'short_description_length']\n"
     ]
    }
   ],
   "source": [
    "#generating non-ml attributes\n",
    "\n",
    "non_ml = ['Unnamed: 0', 'authors', 'date']\n",
    "df = df.drop(non_ml, axis = 1)\n",
    "display(df.head(3))\n",
    "print(f'The data has the following features after dropping non-ml attributes:\\n{df.columns.tolist()}')"
   ]
  },
  {
   "cell_type": "code",
   "execution_count": 7,
   "id": "3a752a1f",
   "metadata": {},
   "outputs": [
    {
     "data": {
      "text/plain": [
       "headline                        6\n",
       "category                        0\n",
       "short_description           19712\n",
       "headline_length                 0\n",
       "short_description_length        0\n",
       "dtype: int64"
      ]
     },
     "execution_count": 7,
     "metadata": {},
     "output_type": "execute_result"
    }
   ],
   "source": [
    "#missing value report\n",
    "\n",
    "df.isna().sum()"
   ]
  },
  {
   "cell_type": "code",
   "execution_count": 8,
   "id": "1d76272d",
   "metadata": {},
   "outputs": [
    {
     "data": {
      "text/plain": [
       "headline                    0\n",
       "category                    0\n",
       "short_description           0\n",
       "headline_length             0\n",
       "short_description_length    0\n",
       "dtype: int64"
      ]
     },
     "metadata": {},
     "output_type": "display_data"
    },
    {
     "name": "stdout",
     "output_type": "stream",
     "text": [
      "The data has 189814 rows and 5 columns after dropping nulls\n"
     ]
    }
   ],
   "source": [
    "#dropping missing values.\n",
    "df.dropna(inplace = True)\n",
    "display(df.isna().sum())\n",
    "print(f'The data has {df.shape[0]} rows and {df.shape[1]} columns after dropping nulls')"
   ]
  },
  {
   "cell_type": "code",
   "execution_count": 9,
   "id": "775b9f6b",
   "metadata": {},
   "outputs": [
    {
     "data": {
      "text/plain": [
       "category\n",
       "POLITICS          32441\n",
       "WELLNESS          23208\n",
       "ENTERTAINMENT     21820\n",
       "FAMILY            19425\n",
       "NEWS              16809\n",
       "LIFE              16238\n",
       "STYLE & BEAUTY    11369\n",
       "VOICES            10802\n",
       "FOOD & DRINK       8271\n",
       "BUSINESS           5132\n",
       "SPORTS             4414\n",
       "HOME & LIVING      4317\n",
       "SCIENCE            3906\n",
       "ENVIRONMENT        3488\n",
       "ARTS & CULTURE     3265\n",
       "IMPACT             3086\n",
       "EDUCATION          1823\n",
       "Name: count, dtype: int64"
      ]
     },
     "execution_count": 9,
     "metadata": {},
     "output_type": "execute_result"
    }
   ],
   "source": [
    "df['category'].value_counts()"
   ]
  },
  {
   "cell_type": "code",
   "execution_count": 10,
   "id": "248b5320",
   "metadata": {},
   "outputs": [
    {
     "data": {
      "text/html": [
       "<div>\n",
       "<style scoped>\n",
       "    .dataframe tbody tr th:only-of-type {\n",
       "        vertical-align: middle;\n",
       "    }\n",
       "\n",
       "    .dataframe tbody tr th {\n",
       "        vertical-align: top;\n",
       "    }\n",
       "\n",
       "    .dataframe thead th {\n",
       "        text-align: right;\n",
       "    }\n",
       "</style>\n",
       "<table border=\"1\" class=\"dataframe\">\n",
       "  <thead>\n",
       "    <tr style=\"text-align: right;\">\n",
       "      <th></th>\n",
       "      <th>category</th>\n",
       "      <th>headline_length</th>\n",
       "      <th>short_description_length</th>\n",
       "      <th>content</th>\n",
       "    </tr>\n",
       "  </thead>\n",
       "  <tbody>\n",
       "    <tr>\n",
       "      <th>0</th>\n",
       "      <td>NEWS</td>\n",
       "      <td>76</td>\n",
       "      <td>154</td>\n",
       "      <td>Over 4 Million Americans Roll Up Sleeves For O...</td>\n",
       "    </tr>\n",
       "    <tr>\n",
       "      <th>1</th>\n",
       "      <td>NEWS</td>\n",
       "      <td>89</td>\n",
       "      <td>159</td>\n",
       "      <td>American Airlines Flyer Charged, Banned For Li...</td>\n",
       "    </tr>\n",
       "    <tr>\n",
       "      <th>2</th>\n",
       "      <td>ENTERTAINMENT</td>\n",
       "      <td>69</td>\n",
       "      <td>64</td>\n",
       "      <td>23 Of The Funniest Tweets About Cats And Dogs ...</td>\n",
       "    </tr>\n",
       "  </tbody>\n",
       "</table>\n",
       "</div>"
      ],
      "text/plain": [
       "        category  headline_length  short_description_length  \\\n",
       "0           NEWS               76                       154   \n",
       "1           NEWS               89                       159   \n",
       "2  ENTERTAINMENT               69                        64   \n",
       "\n",
       "                                             content  \n",
       "0  Over 4 Million Americans Roll Up Sleeves For O...  \n",
       "1  American Airlines Flyer Charged, Banned For Li...  \n",
       "2  23 Of The Funniest Tweets About Cats And Dogs ...  "
      ]
     },
     "execution_count": 10,
     "metadata": {},
     "output_type": "execute_result"
    }
   ],
   "source": [
    "#creating content column by combining headline and short description\n",
    "\n",
    "df['content'] = df['headline'] + df['short_description']\n",
    "\n",
    "#removing headline and short_description\n",
    "df.drop(['headline', 'short_description'], axis = 1, inplace = True)\n",
    "df.head(3)"
   ]
  },
  {
   "cell_type": "markdown",
   "id": "06e0522a",
   "metadata": {},
   "source": [
    "## Content processing "
   ]
  },
  {
   "cell_type": "code",
   "execution_count": 11,
   "id": "5e4ad472",
   "metadata": {},
   "outputs": [],
   "source": [
    "stop_words = set(stopwords.words('english'))\n",
    "\n",
    "#creating a list of words that might actually help in sentiment analysis \n",
    "#and removing them from stopwords\n",
    "x = ['few', 'once', 'same', 'below', 'above', 'during','over', 'after', 'most','before', 'just', 'against','very','no','which','where','what','nor','whom','why','when','down','but', 'not']\n",
    "for i in x:\n",
    "    stop_words.remove(i)\n",
    "#print(stop_words)\n",
    "\n",
    "def preprocess_text(text):\n",
    "    '''\n",
    "    preprocessing the required text column to convert case, remove number, remove contractions and stopwords\n",
    "    '''\n",
    "    # Convert to lower case\n",
    "    text = text.lower()\n",
    "    \n",
    "    ## add space inbetween numbers and letters (e.g. 5mg to 5 mg, 17yo to 17 yo)\n",
    "    text = re.sub(r'(\\d+)([a-zA-Z])', r'\\1 \\2', text)\n",
    "    \n",
    "    #remove numbers\n",
    "    text = re.sub(r'\\d+', '', text)\n",
    "\n",
    "    # Expand contractions (e.g., \"can't\" to \"can not\")\n",
    "    text = contractions.fix(text)\n",
    "    \n",
    "    # Remove punctuation and special characters\n",
    "    text = re.sub(r'[^a-zA-Z0-9\\s]', ' ', text)\n",
    "\n",
    "    # Apply stopwords list\n",
    "    #stop_words = set(stopwords.words('english'))\n",
    "    text = ' '.join([word for word in text.split() if word not in stop_words])\n",
    "    \n",
    "    return text"
   ]
  },
  {
   "cell_type": "code",
   "execution_count": 12,
   "id": "4afa68ba",
   "metadata": {},
   "outputs": [
    {
     "data": {
      "text/html": [
       "<div>\n",
       "<style scoped>\n",
       "    .dataframe tbody tr th:only-of-type {\n",
       "        vertical-align: middle;\n",
       "    }\n",
       "\n",
       "    .dataframe tbody tr th {\n",
       "        vertical-align: top;\n",
       "    }\n",
       "\n",
       "    .dataframe thead th {\n",
       "        text-align: right;\n",
       "    }\n",
       "</style>\n",
       "<table border=\"1\" class=\"dataframe\">\n",
       "  <thead>\n",
       "    <tr style=\"text-align: right;\">\n",
       "      <th></th>\n",
       "      <th>category</th>\n",
       "      <th>headline_length</th>\n",
       "      <th>short_description_length</th>\n",
       "      <th>content</th>\n",
       "      <th>content_processed</th>\n",
       "    </tr>\n",
       "  </thead>\n",
       "  <tbody>\n",
       "    <tr>\n",
       "      <th>0</th>\n",
       "      <td>NEWS</td>\n",
       "      <td>76</td>\n",
       "      <td>154</td>\n",
       "      <td>Over 4 Million Americans Roll Up Sleeves For O...</td>\n",
       "      <td>over million americans roll sleeves omicron ta...</td>\n",
       "    </tr>\n",
       "    <tr>\n",
       "      <th>1</th>\n",
       "      <td>NEWS</td>\n",
       "      <td>89</td>\n",
       "      <td>159</td>\n",
       "      <td>American Airlines Flyer Charged, Banned For Li...</td>\n",
       "      <td>american airlines flyer charged banned life af...</td>\n",
       "    </tr>\n",
       "    <tr>\n",
       "      <th>2</th>\n",
       "      <td>ENTERTAINMENT</td>\n",
       "      <td>69</td>\n",
       "      <td>64</td>\n",
       "      <td>23 Of The Funniest Tweets About Cats And Dogs ...</td>\n",
       "      <td>funniest tweets cats dogs week sept dog not un...</td>\n",
       "    </tr>\n",
       "  </tbody>\n",
       "</table>\n",
       "</div>"
      ],
      "text/plain": [
       "        category  headline_length  short_description_length  \\\n",
       "0           NEWS               76                       154   \n",
       "1           NEWS               89                       159   \n",
       "2  ENTERTAINMENT               69                        64   \n",
       "\n",
       "                                             content  \\\n",
       "0  Over 4 Million Americans Roll Up Sleeves For O...   \n",
       "1  American Airlines Flyer Charged, Banned For Li...   \n",
       "2  23 Of The Funniest Tweets About Cats And Dogs ...   \n",
       "\n",
       "                                   content_processed  \n",
       "0  over million americans roll sleeves omicron ta...  \n",
       "1  american airlines flyer charged banned life af...  \n",
       "2  funniest tweets cats dogs week sept dog not un...  "
      ]
     },
     "execution_count": 12,
     "metadata": {},
     "output_type": "execute_result"
    }
   ],
   "source": [
    "df['content_processed'] = df['content'].apply(lambda x : preprocess_text(x))\n",
    "df.head(3)"
   ]
  },
  {
   "cell_type": "code",
   "execution_count": 13,
   "id": "b4c0b304",
   "metadata": {},
   "outputs": [],
   "source": [
    "df.to_csv('data/processed_data.csv', index = False)"
   ]
  },
  {
   "cell_type": "code",
   "execution_count": null,
   "id": "00143391",
   "metadata": {},
   "outputs": [],
   "source": []
  }
 ],
 "metadata": {
  "kernelspec": {
   "display_name": "Python (my_nlp)",
   "language": "python",
   "name": "my_nlp"
  },
  "language_info": {
   "codemirror_mode": {
    "name": "ipython",
    "version": 3
   },
   "file_extension": ".py",
   "mimetype": "text/x-python",
   "name": "python",
   "nbconvert_exporter": "python",
   "pygments_lexer": "ipython3",
   "version": "3.12.2"
  }
 },
 "nbformat": 4,
 "nbformat_minor": 5
}
