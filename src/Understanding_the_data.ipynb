{
 "cells": [
  {
   "cell_type": "markdown",
   "id": "04920902-13f5-463a-b0c7-09bbc831cf6e",
   "metadata": {},
   "source": [
    "# Understanding the data"
   ]
  },
  {
   "cell_type": "markdown",
   "id": "8bab0e37-114c-4f06-98b4-d374a1333956",
   "metadata": {},
   "source": [
    "## Importing libraries"
   ]
  },
  {
   "cell_type": "code",
   "execution_count": 1,
   "id": "61fe5957",
   "metadata": {},
   "outputs": [],
   "source": [
    "import pandas as pd\n",
    "import sys\n",
    "from pathlib import Path\n",
    "import os\n",
    "from sklearn.model_selection import train_test_split"
   ]
  },
  {
   "cell_type": "code",
   "execution_count": 2,
   "id": "1032b992-e6f0-42ee-bc22-22125a034e47",
   "metadata": {},
   "outputs": [
    {
     "name": "stdout",
     "output_type": "stream",
     "text": [
      "/Users/saideepbunny/Projects/HuffPost-News-classification\n"
     ]
    }
   ],
   "source": [
    "path = Path(os.path.dirname(os.getcwd()))\n",
    "path = str(path)\n",
    "print(path)\n",
    "sys.path.insert(1, path)"
   ]
  },
  {
   "cell_type": "markdown",
   "id": "d60d9ec1-2282-4e39-b440-6868912ce1d4",
   "metadata": {},
   "source": [
    "## Reading the data"
   ]
  },
  {
   "cell_type": "code",
   "execution_count": 3,
   "id": "2d8fffef-6e7f-4431-9bf3-03badca225ae",
   "metadata": {},
   "outputs": [
    {
     "name": "stdout",
     "output_type": "stream",
     "text": [
      "The data has 209527 rows and 7 columns\n",
      "The data has the following features:\n",
      "['headline', 'category', 'short_description', 'authors', 'date', 'headline_length', 'short_description_length']\n",
      "\n"
     ]
    },
    {
     "data": {
      "text/html": [
       "<div>\n",
       "<style scoped>\n",
       "    .dataframe tbody tr th:only-of-type {\n",
       "        vertical-align: middle;\n",
       "    }\n",
       "\n",
       "    .dataframe tbody tr th {\n",
       "        vertical-align: top;\n",
       "    }\n",
       "\n",
       "    .dataframe thead th {\n",
       "        text-align: right;\n",
       "    }\n",
       "</style>\n",
       "<table border=\"1\" class=\"dataframe\">\n",
       "  <thead>\n",
       "    <tr style=\"text-align: right;\">\n",
       "      <th></th>\n",
       "      <th>headline</th>\n",
       "      <th>category</th>\n",
       "      <th>short_description</th>\n",
       "      <th>authors</th>\n",
       "      <th>date</th>\n",
       "      <th>headline_length</th>\n",
       "      <th>short_description_length</th>\n",
       "    </tr>\n",
       "  </thead>\n",
       "  <tbody>\n",
       "    <tr>\n",
       "      <th>0</th>\n",
       "      <td>Over 4 Million Americans Roll Up Sleeves For O...</td>\n",
       "      <td>U.S. NEWS</td>\n",
       "      <td>Health experts said it is too early to predict...</td>\n",
       "      <td>Carla K. Johnson, AP</td>\n",
       "      <td>2022-09-23</td>\n",
       "      <td>76</td>\n",
       "      <td>154</td>\n",
       "    </tr>\n",
       "    <tr>\n",
       "      <th>1</th>\n",
       "      <td>American Airlines Flyer Charged, Banned For Li...</td>\n",
       "      <td>U.S. NEWS</td>\n",
       "      <td>He was subdued by passengers and crew when he ...</td>\n",
       "      <td>Mary Papenfuss</td>\n",
       "      <td>2022-09-23</td>\n",
       "      <td>89</td>\n",
       "      <td>159</td>\n",
       "    </tr>\n",
       "    <tr>\n",
       "      <th>2</th>\n",
       "      <td>23 Of The Funniest Tweets About Cats And Dogs ...</td>\n",
       "      <td>COMEDY</td>\n",
       "      <td>\"Until you have a dog you don't understand wha...</td>\n",
       "      <td>Elyse Wanshel</td>\n",
       "      <td>2022-09-23</td>\n",
       "      <td>69</td>\n",
       "      <td>64</td>\n",
       "    </tr>\n",
       "    <tr>\n",
       "      <th>3</th>\n",
       "      <td>The Funniest Tweets From Parents This Week (Se...</td>\n",
       "      <td>PARENTING</td>\n",
       "      <td>\"Accidentally put grown-up toothpaste on my to...</td>\n",
       "      <td>Caroline Bologna</td>\n",
       "      <td>2022-09-23</td>\n",
       "      <td>56</td>\n",
       "      <td>159</td>\n",
       "    </tr>\n",
       "    <tr>\n",
       "      <th>4</th>\n",
       "      <td>Woman Who Called Cops On Black Bird-Watcher Lo...</td>\n",
       "      <td>U.S. NEWS</td>\n",
       "      <td>Amy Cooper accused investment firm Franklin Te...</td>\n",
       "      <td>Nina Golgowski</td>\n",
       "      <td>2022-09-22</td>\n",
       "      <td>77</td>\n",
       "      <td>156</td>\n",
       "    </tr>\n",
       "    <tr>\n",
       "      <th>5</th>\n",
       "      <td>Cleaner Was Dead In Belk Bathroom For 4 Days B...</td>\n",
       "      <td>U.S. NEWS</td>\n",
       "      <td>The 63-year-old woman was seen working at the ...</td>\n",
       "      <td>NaN</td>\n",
       "      <td>2022-09-22</td>\n",
       "      <td>70</td>\n",
       "      <td>162</td>\n",
       "    </tr>\n",
       "    <tr>\n",
       "      <th>6</th>\n",
       "      <td>Reporter Gets Adorable Surprise From Her Boyfr...</td>\n",
       "      <td>U.S. NEWS</td>\n",
       "      <td>\"Who's that behind you?\" an anchor for New Yor...</td>\n",
       "      <td>Elyse Wanshel</td>\n",
       "      <td>2022-09-22</td>\n",
       "      <td>67</td>\n",
       "      <td>119</td>\n",
       "    </tr>\n",
       "    <tr>\n",
       "      <th>7</th>\n",
       "      <td>Puerto Ricans Desperate For Water After Hurric...</td>\n",
       "      <td>WORLD NEWS</td>\n",
       "      <td>More than half a million people remained witho...</td>\n",
       "      <td>DÁNICA COTO, AP</td>\n",
       "      <td>2022-09-22</td>\n",
       "      <td>65</td>\n",
       "      <td>116</td>\n",
       "    </tr>\n",
       "    <tr>\n",
       "      <th>8</th>\n",
       "      <td>How A New Documentary Captures The Complexity ...</td>\n",
       "      <td>CULTURE &amp; ARTS</td>\n",
       "      <td>In \"Mija,\" director Isabel Castro combined mus...</td>\n",
       "      <td>Marina Fang</td>\n",
       "      <td>2022-09-22</td>\n",
       "      <td>76</td>\n",
       "      <td>148</td>\n",
       "    </tr>\n",
       "    <tr>\n",
       "      <th>9</th>\n",
       "      <td>Biden At UN To Call Russian War An Affront To ...</td>\n",
       "      <td>WORLD NEWS</td>\n",
       "      <td>White House officials say the crux of the pres...</td>\n",
       "      <td>Aamer Madhani, AP</td>\n",
       "      <td>2022-09-21</td>\n",
       "      <td>60</td>\n",
       "      <td>148</td>\n",
       "    </tr>\n",
       "  </tbody>\n",
       "</table>\n",
       "</div>"
      ],
      "text/plain": [
       "                                            headline        category  \\\n",
       "0  Over 4 Million Americans Roll Up Sleeves For O...       U.S. NEWS   \n",
       "1  American Airlines Flyer Charged, Banned For Li...       U.S. NEWS   \n",
       "2  23 Of The Funniest Tweets About Cats And Dogs ...          COMEDY   \n",
       "3  The Funniest Tweets From Parents This Week (Se...       PARENTING   \n",
       "4  Woman Who Called Cops On Black Bird-Watcher Lo...       U.S. NEWS   \n",
       "5  Cleaner Was Dead In Belk Bathroom For 4 Days B...       U.S. NEWS   \n",
       "6  Reporter Gets Adorable Surprise From Her Boyfr...       U.S. NEWS   \n",
       "7  Puerto Ricans Desperate For Water After Hurric...      WORLD NEWS   \n",
       "8  How A New Documentary Captures The Complexity ...  CULTURE & ARTS   \n",
       "9  Biden At UN To Call Russian War An Affront To ...      WORLD NEWS   \n",
       "\n",
       "                                   short_description               authors  \\\n",
       "0  Health experts said it is too early to predict...  Carla K. Johnson, AP   \n",
       "1  He was subdued by passengers and crew when he ...        Mary Papenfuss   \n",
       "2  \"Until you have a dog you don't understand wha...         Elyse Wanshel   \n",
       "3  \"Accidentally put grown-up toothpaste on my to...      Caroline Bologna   \n",
       "4  Amy Cooper accused investment firm Franklin Te...        Nina Golgowski   \n",
       "5  The 63-year-old woman was seen working at the ...                   NaN   \n",
       "6  \"Who's that behind you?\" an anchor for New Yor...         Elyse Wanshel   \n",
       "7  More than half a million people remained witho...       DÁNICA COTO, AP   \n",
       "8  In \"Mija,\" director Isabel Castro combined mus...           Marina Fang   \n",
       "9  White House officials say the crux of the pres...     Aamer Madhani, AP   \n",
       "\n",
       "         date  headline_length  short_description_length  \n",
       "0  2022-09-23               76                       154  \n",
       "1  2022-09-23               89                       159  \n",
       "2  2022-09-23               69                        64  \n",
       "3  2022-09-23               56                       159  \n",
       "4  2022-09-22               77                       156  \n",
       "5  2022-09-22               70                       162  \n",
       "6  2022-09-22               67                       119  \n",
       "7  2022-09-22               65                       116  \n",
       "8  2022-09-22               76                       148  \n",
       "9  2022-09-21               60                       148  "
      ]
     },
     "execution_count": 3,
     "metadata": {},
     "output_type": "execute_result"
    }
   ],
   "source": [
    "df = pd.read_csv(f'{path}/data/News_Category_Dataset_v3.csv').drop(['Unnamed: 0'], axis = 1)\n",
    "\n",
    "print(f'The data has {df.shape[0]} rows and {df.shape[1]} columns')\n",
    "print(f'The data has the following features:\\n{df.columns.tolist()}')\n",
    "print()\n",
    "df.head(10)"
   ]
  },
  {
   "cell_type": "code",
   "execution_count": 4,
   "id": "44750a63",
   "metadata": {},
   "outputs": [
    {
     "name": "stdout",
     "output_type": "stream",
     "text": [
      "Number of classes in category: 42\n"
     ]
    }
   ],
   "source": [
    "#target - category\n",
    "\n",
    "print(f'Number of classes in category: {len(df[\"category\"].unique())}')"
   ]
  },
  {
   "cell_type": "code",
   "execution_count": 5,
   "id": "7983a9d9",
   "metadata": {},
   "outputs": [
    {
     "data": {
      "text/plain": [
       "category\n",
       "POLITICS          35602\n",
       "WELLNESS          17945\n",
       "ENTERTAINMENT     17362\n",
       "TRAVEL             9900\n",
       "STYLE & BEAUTY     9814\n",
       "PARENTING          8791\n",
       "HEALTHY LIVING     6694\n",
       "QUEER VOICES       6347\n",
       "FOOD & DRINK       6340\n",
       "BUSINESS           5992\n",
       "COMEDY             5400\n",
       "SPORTS             5077\n",
       "BLACK VOICES       4583\n",
       "HOME & LIVING      4320\n",
       "PARENTS            3955\n",
       "THE WORLDPOST      3664\n",
       "WEDDINGS           3653\n",
       "WOMEN              3572\n",
       "CRIME              3562\n",
       "IMPACT             3484\n",
       "DIVORCE            3426\n",
       "WORLD NEWS         3299\n",
       "MEDIA              2944\n",
       "WEIRD NEWS         2777\n",
       "GREEN              2622\n",
       "WORLDPOST          2579\n",
       "RELIGION           2577\n",
       "STYLE              2254\n",
       "SCIENCE            2206\n",
       "TECH               2104\n",
       "TASTE              2096\n",
       "MONEY              1756\n",
       "ARTS               1509\n",
       "ENVIRONMENT        1444\n",
       "FIFTY              1401\n",
       "GOOD NEWS          1398\n",
       "U.S. NEWS          1377\n",
       "ARTS & CULTURE     1339\n",
       "COLLEGE            1144\n",
       "LATINO VOICES      1130\n",
       "CULTURE & ARTS     1074\n",
       "EDUCATION          1014\n",
       "Name: count, dtype: int64"
      ]
     },
     "execution_count": 5,
     "metadata": {},
     "output_type": "execute_result"
    }
   ],
   "source": [
    "df['category'].value_counts()"
   ]
  },
  {
   "cell_type": "markdown",
   "id": "67abd511",
   "metadata": {},
   "source": [
    "- Some categories can be inter-related and grouping them using the following mapping:"
   ]
  },
  {
   "cell_type": "markdown",
   "id": "b5f0e2c4-29ec-42b8-b211-b6d8ae6edbe2",
   "metadata": {},
   "source": [
    "## Grouping similar NEWS categories"
   ]
  },
  {
   "cell_type": "code",
   "execution_count": 6,
   "id": "4acdb076",
   "metadata": {},
   "outputs": [],
   "source": [
    "mapping = {\n",
    "    \"POLITICS\" : [\"POLITICS\"],\n",
    "    \"ENTERTAINMENT\" : [\"ENTERTAINMENT\", \"MEDIA\", \"COMEDY\"],\n",
    "    \"VOICES\" : [\"QUEER VOICES\", \"BLACK VOICES\", \"LATINO VOICES\"],\n",
    "    \"FOOD & DRINK\" : [\"FOOD & DRINK\", \"TASTE\"],\n",
    "    \"BUSINESS\" : [\"BUSINESS\"],\n",
    "    \"SPORTS\" : [\"SPORTS\"],\n",
    "    \"HOME & LIVING\" : [\"HOME & LIVING\"],\n",
    "    \"NEWS\" : [\"THE WORLDPOST\", \"CRIME\", \"WORLD NEWS\", \"WEIRD NEWS\", \"WORLDPOST\", \"FIFTY\", \"GOOD NEWS\", \"U.S. NEWS\", ],\n",
    "    \"FAMILY\" : [\"WEDDINGS\", \"DIVORCE\", \"PARENTING\", \"PARENTS\"],\n",
    "    \"IMPACT\" : [\"IMPACT\"],\n",
    "    \"ENVIRONMENT\" : [\"GREEN\", \"ENVIRONMENT\"],\n",
    "    \"LIFE\" : [\"WOMEN\", \"RELIGION\", \"MONEY\", \"TRAVEL\"],\n",
    "    \"SCIENCE\" : [\"SCIENCE\", \"TECH\", ],\n",
    "    \"ARTS & CULTURE\" : [\"ARTS\", \"ARTS & CULTURE\", \"CULTURE & ARTS\"],\n",
    "    \"EDUCATION\" : [\"COLLEGE\", \"EDUCATION\"],\n",
    "    \"STYLE & BEAUTY\" : [\"STYLE & BEAUTY\", \"STYLE\"],\n",
    "    \"WELLNESS\" : [\"WELLNESS\", \"HEALTHY LIVING\"]\n",
    "}\n",
    "for i, j in mapping.items():\n",
    "    df.loc[df['category'].isin(j), 'category'] = i"
   ]
  },
  {
   "cell_type": "code",
   "execution_count": 7,
   "id": "3e69d75a",
   "metadata": {},
   "outputs": [
    {
     "name": "stdout",
     "output_type": "stream",
     "text": [
      "Number of classes in category after relabeling: 17\n",
      "\n"
     ]
    },
    {
     "data": {
      "text/plain": [
       "category\n",
       "POLITICS          35602\n",
       "ENTERTAINMENT     25706\n",
       "WELLNESS          24639\n",
       "NEWS              20057\n",
       "FAMILY            19825\n",
       "LIFE              17805\n",
       "STYLE & BEAUTY    12068\n",
       "VOICES            12060\n",
       "FOOD & DRINK       8436\n",
       "BUSINESS           5992\n",
       "SPORTS             5077\n",
       "HOME & LIVING      4320\n",
       "SCIENCE            4310\n",
       "ENVIRONMENT        4066\n",
       "ARTS & CULTURE     3922\n",
       "IMPACT             3484\n",
       "EDUCATION          2158\n",
       "Name: count, dtype: int64"
      ]
     },
     "execution_count": 7,
     "metadata": {},
     "output_type": "execute_result"
    }
   ],
   "source": [
    "print(f'Number of classes in category after relabeling: {len(df[\"category\"].unique())}')\n",
    "print()\n",
    "\n",
    "df['category'].value_counts()"
   ]
  },
  {
   "cell_type": "markdown",
   "id": "d53b69d1-7f5a-46a8-b3a6-c94605cac4d4",
   "metadata": {},
   "source": [
    "## Missing value report"
   ]
  },
  {
   "cell_type": "markdown",
   "id": "f1f8eaf3-e479-4d29-99f5-cdfd1ea98787",
   "metadata": {},
   "source": [
    "### Missing values"
   ]
  },
  {
   "cell_type": "code",
   "execution_count": 8,
   "id": "3a752a1f",
   "metadata": {},
   "outputs": [
    {
     "data": {
      "text/plain": [
       "headline                        6\n",
       "category                        0\n",
       "short_description           19712\n",
       "authors                     37418\n",
       "date                            0\n",
       "headline_length                 0\n",
       "short_description_length        0\n",
       "dtype: int64"
      ]
     },
     "execution_count": 8,
     "metadata": {},
     "output_type": "execute_result"
    }
   ],
   "source": [
    "#missing value report\n",
    "df.isna().sum()"
   ]
  },
  {
   "cell_type": "markdown",
   "id": "7a0524df-ba33-4abf-a732-92e0faa5a96e",
   "metadata": {},
   "source": [
    "### Dropping records with null values in headline and short_description"
   ]
  },
  {
   "cell_type": "code",
   "execution_count": 9,
   "id": "1d76272d",
   "metadata": {},
   "outputs": [
    {
     "name": "stdout",
     "output_type": "stream",
     "text": [
      "The data has 209527 records before dropping nulls\n"
     ]
    },
    {
     "data": {
      "text/plain": [
       "headline                        0\n",
       "category                        0\n",
       "short_description               0\n",
       "authors                     32955\n",
       "date                            0\n",
       "headline_length                 0\n",
       "short_description_length        0\n",
       "dtype: int64"
      ]
     },
     "metadata": {},
     "output_type": "display_data"
    },
    {
     "name": "stdout",
     "output_type": "stream",
     "text": [
      "The data has 189814 records after dropping nulls\n"
     ]
    }
   ],
   "source": [
    "#dropping missing values.\n",
    "print(f'The data has {df.shape[0]} records before dropping nulls')\n",
    "df.dropna(subset=['headline', 'short_description'], inplace = True)\n",
    "display(df.isna().sum())\n",
    "print(f'The data has {df.shape[0]} records after dropping nulls')"
   ]
  },
  {
   "cell_type": "markdown",
   "id": "1cc671f4-74fb-4cc1-aebe-08eac35c66d5",
   "metadata": {},
   "source": [
    "## Selecting 3 categories to simplify the problem"
   ]
  },
  {
   "cell_type": "code",
   "execution_count": 10,
   "id": "991b97c6-2716-4a0c-ac41-808369befdeb",
   "metadata": {},
   "outputs": [
    {
     "data": {
      "text/html": [
       "<div>\n",
       "<style scoped>\n",
       "    .dataframe tbody tr th:only-of-type {\n",
       "        vertical-align: middle;\n",
       "    }\n",
       "\n",
       "    .dataframe tbody tr th {\n",
       "        vertical-align: top;\n",
       "    }\n",
       "\n",
       "    .dataframe thead th {\n",
       "        text-align: right;\n",
       "    }\n",
       "</style>\n",
       "<table border=\"1\" class=\"dataframe\">\n",
       "  <thead>\n",
       "    <tr style=\"text-align: right;\">\n",
       "      <th></th>\n",
       "      <th>headline</th>\n",
       "      <th>category</th>\n",
       "      <th>short_description</th>\n",
       "      <th>authors</th>\n",
       "      <th>date</th>\n",
       "      <th>headline_length</th>\n",
       "      <th>short_description_length</th>\n",
       "    </tr>\n",
       "  </thead>\n",
       "  <tbody>\n",
       "    <tr>\n",
       "      <th>2</th>\n",
       "      <td>23 Of The Funniest Tweets About Cats And Dogs ...</td>\n",
       "      <td>ENTERTAINMENT</td>\n",
       "      <td>\"Until you have a dog you don't understand wha...</td>\n",
       "      <td>Elyse Wanshel</td>\n",
       "      <td>2022-09-23</td>\n",
       "      <td>69</td>\n",
       "      <td>64</td>\n",
       "    </tr>\n",
       "    <tr>\n",
       "      <th>20</th>\n",
       "      <td>Golden Globes Returning To NBC In January Afte...</td>\n",
       "      <td>ENTERTAINMENT</td>\n",
       "      <td>For the past 18 months, Hollywood has effectiv...</td>\n",
       "      <td>NaN</td>\n",
       "      <td>2022-09-20</td>\n",
       "      <td>60</td>\n",
       "      <td>166</td>\n",
       "    </tr>\n",
       "    <tr>\n",
       "      <th>21</th>\n",
       "      <td>Biden Says U.S. Forces Would Defend Taiwan If ...</td>\n",
       "      <td>POLITICS</td>\n",
       "      <td>President issues vow as tensions with China rise.</td>\n",
       "      <td>NaN</td>\n",
       "      <td>2022-09-19</td>\n",
       "      <td>59</td>\n",
       "      <td>49</td>\n",
       "    </tr>\n",
       "    <tr>\n",
       "      <th>24</th>\n",
       "      <td>‘Beautiful And Sad At The Same Time’: Ukrainia...</td>\n",
       "      <td>POLITICS</td>\n",
       "      <td>An annual celebration took on a different feel...</td>\n",
       "      <td>Jonathan Nicholson</td>\n",
       "      <td>2022-09-19</td>\n",
       "      <td>101</td>\n",
       "      <td>89</td>\n",
       "    </tr>\n",
       "    <tr>\n",
       "      <th>28</th>\n",
       "      <td>James Cameron Says He 'Clashed' With Studio Be...</td>\n",
       "      <td>ENTERTAINMENT</td>\n",
       "      <td>The \"Avatar\" director said aspects of his 2009...</td>\n",
       "      <td>Ben Blanchet</td>\n",
       "      <td>2022-09-18</td>\n",
       "      <td>67</td>\n",
       "      <td>121</td>\n",
       "    </tr>\n",
       "    <tr>\n",
       "      <th>...</th>\n",
       "      <td>...</td>\n",
       "      <td>...</td>\n",
       "      <td>...</td>\n",
       "      <td>...</td>\n",
       "      <td>...</td>\n",
       "      <td>...</td>\n",
       "      <td>...</td>\n",
       "    </tr>\n",
       "    <tr>\n",
       "      <th>209486</th>\n",
       "      <td>Daily Show Correspondent Clip Of The Week: Al ...</td>\n",
       "      <td>ENTERTAINMENT</td>\n",
       "      <td>If you're like us, by the time Monday rolls ar...</td>\n",
       "      <td>NaN</td>\n",
       "      <td>2012-01-28</td>\n",
       "      <td>92</td>\n",
       "      <td>123</td>\n",
       "    </tr>\n",
       "    <tr>\n",
       "      <th>209487</th>\n",
       "      <td>Mitt Romney Madness: Florida Edition (VIDEO)</td>\n",
       "      <td>ENTERTAINMENT</td>\n",
       "      <td>The apparent madness that gripped Mitt Romney ...</td>\n",
       "      <td>Ben Craw</td>\n",
       "      <td>2012-01-28</td>\n",
       "      <td>44</td>\n",
       "      <td>133</td>\n",
       "    </tr>\n",
       "    <tr>\n",
       "      <th>209488</th>\n",
       "      <td>7 Amazing Name Generators (PHOTOS)</td>\n",
       "      <td>ENTERTAINMENT</td>\n",
       "      <td>Let's be honest: most of our names are pretty ...</td>\n",
       "      <td>Seena Vali</td>\n",
       "      <td>2012-01-28</td>\n",
       "      <td>34</td>\n",
       "      <td>121</td>\n",
       "    </tr>\n",
       "    <tr>\n",
       "      <th>209512</th>\n",
       "      <td>Sundance, Ice-T, and Shades of the American Ra...</td>\n",
       "      <td>ENTERTAINMENT</td>\n",
       "      <td>Representation of the collective diaspora has ...</td>\n",
       "      <td>Courtney Garcia, Contributor\\nI tell stories a...</td>\n",
       "      <td>2012-01-28</td>\n",
       "      <td>58</td>\n",
       "      <td>204</td>\n",
       "    </tr>\n",
       "    <tr>\n",
       "      <th>209513</th>\n",
       "      <td>'Girl With the Dragon Tattoo' India Release Ca...</td>\n",
       "      <td>ENTERTAINMENT</td>\n",
       "      <td>\"Sony Pictures will not be releasing The Girl ...</td>\n",
       "      <td>NaN</td>\n",
       "      <td>2012-01-28</td>\n",
       "      <td>102</td>\n",
       "      <td>128</td>\n",
       "    </tr>\n",
       "  </tbody>\n",
       "</table>\n",
       "<p>77469 rows × 7 columns</p>\n",
       "</div>"
      ],
      "text/plain": [
       "                                                 headline       category  \\\n",
       "2       23 Of The Funniest Tweets About Cats And Dogs ...  ENTERTAINMENT   \n",
       "20      Golden Globes Returning To NBC In January Afte...  ENTERTAINMENT   \n",
       "21      Biden Says U.S. Forces Would Defend Taiwan If ...       POLITICS   \n",
       "24      ‘Beautiful And Sad At The Same Time’: Ukrainia...       POLITICS   \n",
       "28      James Cameron Says He 'Clashed' With Studio Be...  ENTERTAINMENT   \n",
       "...                                                   ...            ...   \n",
       "209486  Daily Show Correspondent Clip Of The Week: Al ...  ENTERTAINMENT   \n",
       "209487       Mitt Romney Madness: Florida Edition (VIDEO)  ENTERTAINMENT   \n",
       "209488                 7 Amazing Name Generators (PHOTOS)  ENTERTAINMENT   \n",
       "209512  Sundance, Ice-T, and Shades of the American Ra...  ENTERTAINMENT   \n",
       "209513  'Girl With the Dragon Tattoo' India Release Ca...  ENTERTAINMENT   \n",
       "\n",
       "                                        short_description  \\\n",
       "2       \"Until you have a dog you don't understand wha...   \n",
       "20      For the past 18 months, Hollywood has effectiv...   \n",
       "21      President issues vow as tensions with China rise.   \n",
       "24      An annual celebration took on a different feel...   \n",
       "28      The \"Avatar\" director said aspects of his 2009...   \n",
       "...                                                   ...   \n",
       "209486  If you're like us, by the time Monday rolls ar...   \n",
       "209487  The apparent madness that gripped Mitt Romney ...   \n",
       "209488  Let's be honest: most of our names are pretty ...   \n",
       "209512  Representation of the collective diaspora has ...   \n",
       "209513  \"Sony Pictures will not be releasing The Girl ...   \n",
       "\n",
       "                                                  authors        date  \\\n",
       "2                                           Elyse Wanshel  2022-09-23   \n",
       "20                                                    NaN  2022-09-20   \n",
       "21                                                    NaN  2022-09-19   \n",
       "24                                     Jonathan Nicholson  2022-09-19   \n",
       "28                                           Ben Blanchet  2022-09-18   \n",
       "...                                                   ...         ...   \n",
       "209486                                                NaN  2012-01-28   \n",
       "209487                                           Ben Craw  2012-01-28   \n",
       "209488                                         Seena Vali  2012-01-28   \n",
       "209512  Courtney Garcia, Contributor\\nI tell stories a...  2012-01-28   \n",
       "209513                                                NaN  2012-01-28   \n",
       "\n",
       "        headline_length  short_description_length  \n",
       "2                    69                        64  \n",
       "20                   60                       166  \n",
       "21                   59                        49  \n",
       "24                  101                        89  \n",
       "28                   67                       121  \n",
       "...                 ...                       ...  \n",
       "209486               92                       123  \n",
       "209487               44                       133  \n",
       "209488               34                       121  \n",
       "209512               58                       204  \n",
       "209513              102                       128  \n",
       "\n",
       "[77469 rows x 7 columns]"
      ]
     },
     "execution_count": 10,
     "metadata": {},
     "output_type": "execute_result"
    }
   ],
   "source": [
    "final_df = df[df['category'].isin(['POLITICS', 'ENTERTAINMENT', 'WELLNESS'])].copy()\n",
    "final_df"
   ]
  },
  {
   "cell_type": "markdown",
   "id": "555a7ee3-e382-4112-b3eb-7c3118dbc816",
   "metadata": {},
   "source": [
    "## Preparing train and test data"
   ]
  },
  {
   "cell_type": "code",
   "execution_count": 11,
   "id": "55290ce0-b093-4460-a61f-4e91f5285a5d",
   "metadata": {},
   "outputs": [],
   "source": [
    "# Perform train-test split (80% train, 20% test)\n",
    "train_df, test_df = train_test_split(final_df, test_size=0.2, random_state=42, stratify=final_df['category'])"
   ]
  },
  {
   "cell_type": "code",
   "execution_count": 12,
   "id": "d242b68c-b507-47df-85ea-708e7c4e6179",
   "metadata": {},
   "outputs": [
    {
     "data": {
      "text/plain": [
       "category\n",
       "POLITICS         25953\n",
       "WELLNESS         18566\n",
       "ENTERTAINMENT    17456\n",
       "Name: count, dtype: int64"
      ]
     },
     "execution_count": 12,
     "metadata": {},
     "output_type": "execute_result"
    }
   ],
   "source": [
    "train_df['category'].value_counts()"
   ]
  },
  {
   "cell_type": "code",
   "execution_count": 13,
   "id": "27ed3447-1754-4271-93aa-2ce95406cbf7",
   "metadata": {},
   "outputs": [
    {
     "data": {
      "text/plain": [
       "category\n",
       "POLITICS         6488\n",
       "WELLNESS         4642\n",
       "ENTERTAINMENT    4364\n",
       "Name: count, dtype: int64"
      ]
     },
     "execution_count": 13,
     "metadata": {},
     "output_type": "execute_result"
    }
   ],
   "source": [
    "test_df['category'].value_counts()"
   ]
  },
  {
   "cell_type": "markdown",
   "id": "80a692ea-be82-4b1a-8ba2-b5c7153c1341",
   "metadata": {},
   "source": [
    "## Writing train and test data"
   ]
  },
  {
   "cell_type": "code",
   "execution_count": 14,
   "id": "688010c4-1c68-4b1b-8aa7-d402cfcbe03e",
   "metadata": {},
   "outputs": [],
   "source": [
    "train_df.to_json(f'{path}/data/train_data.json', orient='records')\n",
    "test_df.to_json(f'{path}/data/test_data.json', orient='records')"
   ]
  }
 ],
 "metadata": {
  "kernelspec": {
   "display_name": "Python (huffpost_env)",
   "language": "python",
   "name": "huffpost_env"
  },
  "language_info": {
   "codemirror_mode": {
    "name": "ipython",
    "version": 3
   },
   "file_extension": ".py",
   "mimetype": "text/x-python",
   "name": "python",
   "nbconvert_exporter": "python",
   "pygments_lexer": "ipython3",
   "version": "3.10.16"
  }
 },
 "nbformat": 4,
 "nbformat_minor": 5
}
