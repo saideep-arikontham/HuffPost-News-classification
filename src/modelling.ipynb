{
 "cells": [
  {
   "cell_type": "code",
   "execution_count": 16,
   "id": "78126c81",
   "metadata": {},
   "outputs": [
    {
     "data": {
      "text/html": [
       "<div>\n",
       "<style scoped>\n",
       "    .dataframe tbody tr th:only-of-type {\n",
       "        vertical-align: middle;\n",
       "    }\n",
       "\n",
       "    .dataframe tbody tr th {\n",
       "        vertical-align: top;\n",
       "    }\n",
       "\n",
       "    .dataframe thead th {\n",
       "        text-align: right;\n",
       "    }\n",
       "</style>\n",
       "<table border=\"1\" class=\"dataframe\">\n",
       "  <thead>\n",
       "    <tr style=\"text-align: right;\">\n",
       "      <th></th>\n",
       "      <th>category</th>\n",
       "      <th>headline_length</th>\n",
       "      <th>short_description_length</th>\n",
       "      <th>content</th>\n",
       "      <th>content_processed</th>\n",
       "      <th>content_len</th>\n",
       "      <th>processed_len</th>\n",
       "    </tr>\n",
       "  </thead>\n",
       "  <tbody>\n",
       "    <tr>\n",
       "      <th>0</th>\n",
       "      <td>NEWS</td>\n",
       "      <td>76</td>\n",
       "      <td>154</td>\n",
       "      <td>Over 4 Million Americans Roll Up Sleeves For O...</td>\n",
       "      <td>over million americans roll sleeves omicron ta...</td>\n",
       "      <td>230</td>\n",
       "      <td>167</td>\n",
       "    </tr>\n",
       "    <tr>\n",
       "      <th>1</th>\n",
       "      <td>NEWS</td>\n",
       "      <td>89</td>\n",
       "      <td>159</td>\n",
       "      <td>American Airlines Flyer Charged, Banned For Li...</td>\n",
       "      <td>american airlines flyer charged banned life af...</td>\n",
       "      <td>248</td>\n",
       "      <td>189</td>\n",
       "    </tr>\n",
       "    <tr>\n",
       "      <th>2</th>\n",
       "      <td>ENTERTAINMENT</td>\n",
       "      <td>69</td>\n",
       "      <td>64</td>\n",
       "      <td>23 Of The Funniest Tweets About Cats And Dogs ...</td>\n",
       "      <td>funniest tweets cats dogs week sept dog not un...</td>\n",
       "      <td>133</td>\n",
       "      <td>71</td>\n",
       "    </tr>\n",
       "  </tbody>\n",
       "</table>\n",
       "</div>"
      ],
      "text/plain": [
       "        category  headline_length  short_description_length  \\\n",
       "0           NEWS               76                       154   \n",
       "1           NEWS               89                       159   \n",
       "2  ENTERTAINMENT               69                        64   \n",
       "\n",
       "                                             content  \\\n",
       "0  Over 4 Million Americans Roll Up Sleeves For O...   \n",
       "1  American Airlines Flyer Charged, Banned For Li...   \n",
       "2  23 Of The Funniest Tweets About Cats And Dogs ...   \n",
       "\n",
       "                                   content_processed  content_len  \\\n",
       "0  over million americans roll sleeves omicron ta...          230   \n",
       "1  american airlines flyer charged banned life af...          248   \n",
       "2  funniest tweets cats dogs week sept dog not un...          133   \n",
       "\n",
       "   processed_len  \n",
       "0            167  \n",
       "1            189  \n",
       "2             71  "
      ]
     },
     "execution_count": 16,
     "metadata": {},
     "output_type": "execute_result"
    }
   ],
   "source": [
    "import pandas as pd\n",
    "import numpy as np\n",
    "\n",
    "df = pd.read_csv('data/final_data.csv')\n",
    "df.head(3)"
   ]
  },
  {
   "cell_type": "code",
   "execution_count": 17,
   "id": "15030a13",
   "metadata": {},
   "outputs": [],
   "source": [
    "\n",
    "def create_w2v(embedding_dim, words, window, epochs, sg):\n",
    "    '''\n",
    "    creating word2vec or skipgram.\n",
    "    '''\n",
    "    #Creating Word2Vec\n",
    "    w2v_model = gensim.models.Word2Vec(words , vector_size = embedding_dim , window = window , min_count = 1, epochs = epochs, sg = sg)\n",
    "    print(f\"- {'Word2Vec' if(sg==0) else 'Skipgram'} Created\")\n",
    "    print(f'- Vocabulary count: {len(w2v_model.wv)}')\n",
    "    print(f'''- Similar words for word \"great:\\n\"{w2v_model.wv.most_similar('great')}''')\n",
    "    \n",
    "    return w2v_model\n",
    "    \n",
    "\n",
    "def get_sentence_embedding(sent, model, flag):\n",
    "    '''\n",
    "    create embeddings by calculating mean of vectors of words in each review (preprocessed_text)\n",
    "    '''\n",
    "    list_vectors = []\n",
    "    for word in sent:\n",
    "        if(flag):\n",
    "            #indicates fasttext\n",
    "            vector = model.get_word_vector(word)\n",
    "        else:\n",
    "            vector = model.wv[word]\n",
    "        list_vectors.append(vector)\n",
    "    mean_vector = np.array(list_vectors).mean(axis=0)\n",
    "    return mean_vector\n",
    "\n",
    "\n",
    "# Creating \"embeddings\" column\n",
    "def get_embedding_cols(df, embedding_dim, model, flag):\n",
    "    '''\n",
    "    returns df with embedded columns. flag indicates if its fasttext\n",
    "    '''\n",
    "    #df['embeddings'] = df['preprocessed_text'].apply(lambda x: get_sentence_embedding(x.split(), model))\n",
    "    df['embeddings'] = df['content_processed'].apply(lambda x: get_sentence_embedding(x.split(), model, flag))\n",
    "    \n",
    "\n",
    "    #creating a column for each vector in embedding - 100 columns\n",
    "    cols = [f'e_{i}' for i in range(1, embedding_dim + 1)]\n",
    "    df[cols] = pd.DataFrame(df['embeddings'].tolist(), index= df.index)\n",
    "    print('- Embeddings are created.')\n",
    "    return df\n"
   ]
  },
  {
   "cell_type": "code",
   "execution_count": 18,
   "id": "9dc487b6",
   "metadata": {},
   "outputs": [],
   "source": [
    "#writing the text column to build embeddings\n",
    "df.to_csv('data/text_label.txt', columns = ['content_processed'], header = None, index = False)\n"
   ]
  },
  {
   "cell_type": "code",
   "execution_count": 19,
   "id": "462ae918",
   "metadata": {},
   "outputs": [
    {
     "name": "stderr",
     "output_type": "stream",
     "text": [
      "Read 3M words\n",
      "Number of words:  33490\n",
      "Number of labels: 0\n",
      "Progress: 100.0% words/sec/thread:   73754 lr:  0.000000 avg.loss:  2.183504 ETA:   0h 0m 0s\n"
     ]
    },
    {
     "name": "stdout",
     "output_type": "stream",
     "text": [
      "FASTTEXT 100 VECTOR EMBEDDING DIMENSIONS:\n",
      "=========================================\n"
     ]
    },
    {
     "name": "stderr",
     "output_type": "stream",
     "text": [
      "/var/folders/t5/tflj5hjs197_vv37fw2sdhdr0000gn/T/ipykernel_95827/2472963586.py:41: PerformanceWarning: DataFrame is highly fragmented.  This is usually the result of calling `frame.insert` many times, which has poor performance.  Consider joining all columns at once using pd.concat(axis=1) instead. To get a de-fragmented frame, use `newframe = frame.copy()`\n",
      "  df[cols] = pd.DataFrame(df['embeddings'].tolist(), index= df.index)\n",
      "/var/folders/t5/tflj5hjs197_vv37fw2sdhdr0000gn/T/ipykernel_95827/2472963586.py:41: PerformanceWarning: DataFrame is highly fragmented.  This is usually the result of calling `frame.insert` many times, which has poor performance.  Consider joining all columns at once using pd.concat(axis=1) instead. To get a de-fragmented frame, use `newframe = frame.copy()`\n",
      "  df[cols] = pd.DataFrame(df['embeddings'].tolist(), index= df.index)\n",
      "/var/folders/t5/tflj5hjs197_vv37fw2sdhdr0000gn/T/ipykernel_95827/2472963586.py:41: PerformanceWarning: DataFrame is highly fragmented.  This is usually the result of calling `frame.insert` many times, which has poor performance.  Consider joining all columns at once using pd.concat(axis=1) instead. To get a de-fragmented frame, use `newframe = frame.copy()`\n",
      "  df[cols] = pd.DataFrame(df['embeddings'].tolist(), index= df.index)\n"
     ]
    },
    {
     "name": "stdout",
     "output_type": "stream",
     "text": [
      "- Embeddings are created.\n",
      "- Fasttext embeddings Created\n",
      "- Vocabulary count: 33490\n",
      "- Similar words for word \"great:\n",
      "\"[(0.7081536650657654, 'greats'), (0.6797245740890503, 'good'), (0.6773821115493774, 'greatest'), (0.6725165247917175, 'greatist'), (0.6712645888328552, 'lovewith'), (0.6639158129692078, 'amazing'), (0.6582716107368469, 'best'), (0.6498251557350159, 'timeif'), (0.6458053588867188, 'loveif'), (0.6420291662216187, 'americathere')]\n"
     ]
    }
   ],
   "source": [
    "import fasttext\n",
    "\n",
    "model = fasttext.train_unsupervised('data/text_label.txt', dim = 100)\n",
    "\n",
    "print(f'FASTTEXT {model.dim} VECTOR EMBEDDING DIMENSIONS:')\n",
    "print(f'=========================================')\n",
    "\n",
    "ft_df_100 = get_embedding_cols(df, 100, model, True)\n",
    "\n",
    "#writing to a new file\n",
    "ft_df_100.to_csv('data/fasttext_100.csv', index = False)\n",
    "\n",
    "print('- Fasttext embeddings Created')\n",
    "print(f'- Vocabulary count: {len(model.words)}')\n",
    "print(f'''- Similar words for word \"great:\\n\"{model.get_nearest_neighbors('great', k=10)}''')\n",
    "\n",
    "model.save_model('models/fasttext_model.bin')\n"
   ]
  },
  {
   "cell_type": "markdown",
   "id": "9de2d4f1",
   "metadata": {},
   "source": [
    "## Modelling"
   ]
  },
  {
   "cell_type": "code",
   "execution_count": 21,
   "id": "eefdf4fb",
   "metadata": {},
   "outputs": [
    {
     "name": "stderr",
     "output_type": "stream",
     "text": [
      "/var/folders/t5/tflj5hjs197_vv37fw2sdhdr0000gn/T/ipykernel_95827/2509157625.py:8: PerformanceWarning: DataFrame is highly fragmented.  This is usually the result of calling `frame.insert` many times, which has poor performance.  Consider joining all columns at once using pd.concat(axis=1) instead. To get a de-fragmented frame, use `newframe = frame.copy()`\n",
      "  df1['encoded_category'] = label_encoder.fit_transform(df1['category'])\n",
      "/var/folders/t5/tflj5hjs197_vv37fw2sdhdr0000gn/T/ipykernel_95827/2509157625.py:8: SettingWithCopyWarning: \n",
      "A value is trying to be set on a copy of a slice from a DataFrame.\n",
      "Try using .loc[row_indexer,col_indexer] = value instead\n",
      "\n",
      "See the caveats in the documentation: https://pandas.pydata.org/pandas-docs/stable/user_guide/indexing.html#returning-a-view-versus-a-copy\n",
      "  df1['encoded_category'] = label_encoder.fit_transform(df1['category'])\n"
     ]
    }
   ],
   "source": [
    "df1 = ft_df_100[ft_df_100['category'].isin(['POLITICS', 'WELLNESS', 'ENTERTAINMENT'])]\n",
    "\n",
    "from sklearn.preprocessing import LabelEncoder\n",
    "\n",
    "label_encoder = LabelEncoder()\n",
    "\n",
    "# Fit and transform the column_to_encode\n",
    "df1['encoded_category'] = label_encoder.fit_transform(df1['category'])\n"
   ]
  },
  {
   "cell_type": "code",
   "execution_count": 22,
   "id": "2dc4b2c0",
   "metadata": {},
   "outputs": [],
   "source": [
    "X = df1.drop(['encoded_category','category', 'content', 'content_processed', 'headline_length', 'short_description_length', 'content_len', 'processed_len', 'embeddings'], axis = 1)\n",
    "y = df1['encoded_category']\n"
   ]
  },
  {
   "cell_type": "code",
   "execution_count": 25,
   "id": "15e6c1b1",
   "metadata": {},
   "outputs": [
    {
     "name": "stdout",
     "output_type": "stream",
     "text": [
      "              precision    recall  f1-score   support\n",
      "\n",
      "           0       0.88      0.84      0.86      2182\n",
      "           1       0.90      0.93      0.92      3231\n",
      "           2       0.93      0.93      0.93      2318\n",
      "\n",
      "    accuracy                           0.91      7731\n",
      "   macro avg       0.91      0.90      0.90      7731\n",
      "weighted avg       0.90      0.91      0.90      7731\n",
      "\n"
     ]
    }
   ],
   "source": [
    "# Import necessary libraries\n",
    "import pandas as pd\n",
    "from sklearn.model_selection import train_test_split\n",
    "from xgboost import XGBClassifier\n",
    "from sklearn.metrics import classification_report\n",
    "\n",
    "# Splitting the data into training and testing sets\n",
    "X_train, X_test, y_train, y_test = train_test_split(X, y, test_size=0.1, random_state=42, stratify = y)\n",
    "\n",
    "# Initializing the XGBoost classifier\n",
    "xgb_classifier = XGBClassifier(max_depth = 9, n_estimators = 1000, random_state = 42)\n",
    "\n",
    "# Training the classifier\n",
    "xgb_classifier.fit(X_train, y_train)\n",
    "\n",
    "# Making predictions on the testing set\n",
    "y_pred = xgb_classifier.predict(X_test)\n",
    "\n",
    "# Evaluating the classifier\n",
    "print(classification_report(y_test, y_pred))"
   ]
  },
  {
   "cell_type": "code",
   "execution_count": 26,
   "id": "7ad71a5a",
   "metadata": {},
   "outputs": [
    {
     "data": {
      "image/png": "[encoded data removed]",
      "text/plain": [
       "<Figure size 640x480 with 2 Axes>"
      ]
     },
     "metadata": {},
     "output_type": "display_data"
    }
   ],
   "source": [
    "from sklearn.metrics import confusion_matrix\n",
    "import seaborn as sns\n",
    "import matplotlib.pyplot as plt\n",
    "\n",
    "cm = confusion_matrix(y_test, y_pred)\n",
    "\n",
    "sns.heatmap(cm, annot=True, cmap='Blues', fmt='g', \n",
    "            xticklabels= np.unique(y_pred), \n",
    "            yticklabels= np.unique(y_test))\n",
    "\n",
    "plt.xlabel('Predicted label')\n",
    "plt.ylabel('True label')\n",
    "plt.title('Confusion Matrix')\n",
    "plt.show()"
   ]
  },
  {
   "cell_type": "code",
   "execution_count": null,
   "id": "7eebb55b",
   "metadata": {},
   "outputs": [],
   "source": []
  }
 ],
 "metadata": {
  "kernelspec": {
   "display_name": "Python (my_nlp)",
   "language": "python",
   "name": "my_nlp"
  },
  "language_info": {
   "codemirror_mode": {
    "name": "ipython",
    "version": 3
   },
   "file_extension": ".py",
   "mimetype": "text/x-python",
   "name": "python",
   "nbconvert_exporter": "python",
   "pygments_lexer": "ipython3",
   "version": "3.12.2"
  }
 },
 "nbformat": 4,
 "nbformat_minor": 5
}
